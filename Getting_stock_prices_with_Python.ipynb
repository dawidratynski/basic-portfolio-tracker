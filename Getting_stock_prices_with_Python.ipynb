{
  "cells": [
    {
      "cell_type": "code",
      "execution_count": 2,
      "metadata": {
        "id": "I9Y9kFXv6rCZ"
      },
      "outputs": [],
      "source": [
        "%%capture\n",
        " \n",
        "!pip install yahoo_fin\n",
        "!pip install requests_html\n",
        "!pip install forex-python\n",
        "!pip install cryptocompare"
      ]
    },
    {
      "cell_type": "code",
      "execution_count": 3,
      "metadata": {
        "id": "0VLlO1um7Hru"
      },
      "outputs": [],
      "source": [
        "from yahoo_fin import stock_info as si              #stocks\n",
        "import cryptocompare                                #cryptocurrencies\n",
        "from forex_python.converter import CurrencyRates    #currency exchange rates"
      ]
    },
    {
      "cell_type": "code",
      "execution_count": 12,
      "metadata": {
        "id": "tMhSBIYD8ZvS"
      },
      "outputs": [],
      "source": [
        "def calculate_portfolio_value(preffered_currency = \"PLN\"):\n",
        " \n",
        "  currency_rates = CurrencyRates()\n",
        " \n",
        "  investment_value = 0\n",
        "  cash_reserves = 0\n",
        "  for ccy     in ccys:    cash_reserves += (currency_rates.get_rate(ccy[0],\"USD\"))*ccy[1]\n",
        "  for stock   in stocks:  investment_value += (si.get_live_price(stock[0]))*stock[1]\n",
        "  for crypto  in cryptos: investment_value += (cryptocompare.get_price(crypto[0],currency='USD')[crypto[0]]['USD'])*crypto[1]\n",
        " \n",
        "  preffered_ccy_rate = currency_rates.get_rate(\"USD\",preffered_currency)\n",
        " \n",
        "  print(\"Investemnts:\",\"{:.2f}\".format(investment_value),\"$\")\n",
        "  print(\"This equals:\",\"{:.2f}\".format(investment_value * preffered_ccy_rate), preffered_currency)\n",
        "  print(\"\")\n",
        "  print(\"Currency reserves:\",\"{:.2f}\".format(cash_reserves),\"$\")\n",
        "  print(\"This equals:\",\"{:.2f}\".format(cash_reserves * preffered_ccy_rate), preffered_currency)\n",
        "  print(\"\")\n",
        "  print(\"Total:\",\"{:.2f}\".format(cash_reserves * preffered_ccy_rate + investment_value * preffered_ccy_rate), preffered_currency)"
      ]
    },
    {
      "cell_type": "code",
      "execution_count": 13,
      "metadata": {
        "colab": {
          "base_uri": "https://localhost:8080/"
        },
        "id": "l98JD00Y7U6O",
        "outputId": "3e8bd1e4-1eea-4471-c9da-e7214764ec7e"
      },
      "outputs": [
        {
          "output_type": "stream",
          "name": "stdout",
          "text": [
            "Investemnts: 766.46 $\n",
            "This equals: 766.46 USD\n",
            "\n",
            "Currency reserves: 1451.62 $\n",
            "This equals: 1451.62 USD\n",
            "\n",
            "Total: 2218.08 USD\n"
          ]
        }
      ],
      "source": [
        "             #TICKER    AMMOUNT         NOTES\n",
        " \n",
        "stocks =  [['AAPL'   ,  1.00000000  ,  '        ']]\n",
        " \n",
        "cryptos = [[  'ETH'  ,  0.20202020  ,  'some notes'],\n",
        "           [  'SOL'  ,  2.34567890  ,  'even more notes'],\n",
        "           [  'BTC'  ,  0.00701451  ,  'yup, more notes']]\n",
        "\n",
        " \n",
        "ccys =    [[  'USD' ,  1000        ,  '        '],\n",
        "           [  'PLN' ,  2000        ,  '        '],\n",
        "           [  'CHF' ,  0.00        ,  '        '],\n",
        "           [  'EUR' ,  0.01        ,  '        ']]\n",
        " \n",
        "calculate_portfolio_value(preffered_currency = 'USD')"
      ]
    },
    {
      "cell_type": "code",
      "execution_count": 5,
      "metadata": {
        "id": "-GYVBkgs6bSY"
      },
      "outputs": [],
      "source": []
    }
  ],
  "metadata": {
    "colab": {
      "provenance": []
    },
    "kernelspec": {
      "display_name": "Python 3",
      "name": "python3"
    }
  },
  "nbformat": 4,
  "nbformat_minor": 0
}